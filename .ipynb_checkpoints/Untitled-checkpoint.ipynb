{
 "cells": [
  {
   "cell_type": "code",
   "execution_count": 1,
   "id": "564f34c2",
   "metadata": {},
   "outputs": [
    {
     "ename": "IndentationError",
     "evalue": "expected an indented block (tr.py, line 117)",
     "output_type": "error",
     "traceback": [
      "Traceback \u001b[1;36m(most recent call last)\u001b[0m:\n",
      "  File \u001b[0;32m\"c:\\users\\gargg\\appdata\\local\\programs\\python\\python39\\lib\\site-packages\\IPython\\core\\interactiveshell.py\"\u001b[0m, line \u001b[0;32m3441\u001b[0m, in \u001b[0;35mrun_code\u001b[0m\n    exec(code_obj, self.user_global_ns, self.user_ns)\n",
      "\u001b[1;36m  File \u001b[1;32m\"C:\\Users\\gargg\\AppData\\Local\\Temp/ipykernel_12672/3882139297.py\"\u001b[1;36m, line \u001b[1;32m4\u001b[1;36m, in \u001b[1;35m<module>\u001b[1;36m\u001b[0m\n\u001b[1;33m    import tr\u001b[0m\n",
      "\u001b[1;36m  File \u001b[1;32m\"C:\\Users\\gargg\\Desktop\\Mini Project\\tr.py\"\u001b[1;36m, line \u001b[1;32m117\u001b[0m\n\u001b[1;33m    \u001b[0m\n\u001b[1;37m    ^\u001b[0m\n\u001b[1;31mIndentationError\u001b[0m\u001b[1;31m:\u001b[0m expected an indented block\n"
     ]
    }
   ],
   "source": [
    "import matplotlib.pyplot as plt\n",
    "import cv2 \n",
    "import numpy as np\n",
    "%matplotlib inline"
   ]
  },
  {
   "cell_type": "code",
   "execution_count": null,
   "id": "95d902be",
   "metadata": {},
   "outputs": [],
   "source": [
    "import tr"
   ]
  },
  {
   "cell_type": "code",
   "execution_count": null,
   "id": "fb967f76",
   "metadata": {},
   "outputs": [],
   "source": [
    "p= tr.keys()"
   ]
  },
  {
   "cell_type": "code",
   "execution_count": null,
   "id": "a01b7ceb",
   "metadata": {},
   "outputs": [],
   "source": [
    "print(p)"
   ]
  },
  {
   "cell_type": "code",
   "execution_count": null,
   "id": "888a9643",
   "metadata": {},
   "outputs": [],
   "source": [
    "img = cv2.imread('b.jpg')\n",
    "img = cv2.cvtColor(img,cv2.COLOR_BGR2RGB)\n",
    "plt.imshow(img)"
   ]
  },
  {
   "cell_type": "code",
   "execution_count": null,
   "id": "695f3ea1",
   "metadata": {},
   "outputs": [],
   "source": [
    "en = tr.encrypt(img,p[-2],p[2])"
   ]
  },
  {
   "cell_type": "code",
   "execution_count": null,
   "id": "53a4ce62",
   "metadata": {},
   "outputs": [],
   "source": [
    "plt.imshow(en)"
   ]
  },
  {
   "cell_type": "code",
   "execution_count": null,
   "id": "b31b534a",
   "metadata": {},
   "outputs": [],
   "source": [
    "de = tr.encrypt(en,p[-1],p[2])"
   ]
  },
  {
   "cell_type": "code",
   "execution_count": null,
   "id": "b7c6db89",
   "metadata": {},
   "outputs": [],
   "source": [
    "plt.imshow(de)"
   ]
  }
 ],
 "metadata": {
  "kernelspec": {
   "display_name": "Python 3 (ipykernel)",
   "language": "python",
   "name": "python3"
  },
  "language_info": {
   "codemirror_mode": {
    "name": "ipython",
    "version": 3
   },
   "file_extension": ".py",
   "mimetype": "text/x-python",
   "name": "python",
   "nbconvert_exporter": "python",
   "pygments_lexer": "ipython3",
   "version": "3.9.2"
  }
 },
 "nbformat": 4,
 "nbformat_minor": 5
}
