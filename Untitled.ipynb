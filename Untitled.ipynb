{
 "cells": [
  {
   "cell_type": "code",
   "execution_count": null,
   "id": "e3dfc552",
   "metadata": {},
   "outputs": [],
   "source": [
    "import matplotlib.pyplot as plt\n",
    "import cv2 \n",
    "import numpy as np\n",
    "import tr\n",
    "import math\n",
    "%matplotlib inline"
   ]
  },
  {
   "cell_type": "code",
   "execution_count": null,
   "id": "fb967f76",
   "metadata": {},
   "outputs": [],
   "source": [
    "a= tr.keys(8)"
   ]
  },
  {
   "cell_type": "code",
   "execution_count": null,
   "id": "a01b7ceb",
   "metadata": {},
   "outputs": [],
   "source": [
    "print(a)"
   ]
  },
  {
   "cell_type": "code",
   "execution_count": null,
   "id": "8c82790f",
   "metadata": {},
   "outputs": [],
   "source": [
    "eT = a[0]\n",
    "e = a[1]\n",
    "N = a[2]\n",
    "d = a[3]"
   ]
  },
  {
   "cell_type": "code",
   "execution_count": null,
   "id": "f3be764c",
   "metadata": {},
   "outputs": [],
   "source": [
    "m = 9\n",
    "c = (m**e)%N\n",
    "print(c)"
   ]
  },
  {
   "cell_type": "code",
   "execution_count": null,
   "id": "c6f22be5",
   "metadata": {},
   "outputs": [],
   "source": [
    "f = (c**d)%N\n",
    "print(f)"
   ]
  },
  {
   "cell_type": "code",
   "execution_count": null,
   "id": "888a9643",
   "metadata": {},
   "outputs": [],
   "source": [
    "img = cv2.imread('b.jpg')\n",
    "img = cv2.cvtColor(img,cv2.COLOR_BGR2RGB)\n",
    "plt.imshow(img)"
   ]
  },
  {
   "cell_type": "code",
   "execution_count": null,
   "id": "ed9ac415",
   "metadata": {},
   "outputs": [],
   "source": [
    "en = tr.encrypt(img,e,N)"
   ]
  },
  {
   "cell_type": "code",
   "execution_count": null,
   "id": "2146841e",
   "metadata": {},
   "outputs": [],
   "source": [
    "plt.imshow(en)"
   ]
  },
  {
   "cell_type": "code",
   "execution_count": null,
   "id": "8ba45bde",
   "metadata": {},
   "outputs": [],
   "source": [
    "m = 14"
   ]
  },
  {
   "cell_type": "code",
   "execution_count": null,
   "id": "219d1404",
   "metadata": {},
   "outputs": [],
   "source": [
    "m = m**e\n",
    "m = math.fmod(m,N)"
   ]
  },
  {
   "cell_type": "code",
   "execution_count": null,
   "id": "db4ba90a",
   "metadata": {},
   "outputs": [],
   "source": [
    "print(m)"
   ]
  },
  {
   "cell_type": "code",
   "execution_count": null,
   "id": "4e1fb08d",
   "metadata": {},
   "outputs": [],
   "source": [
    "m = m**d\n",
    "m=math.fmod(m,N)"
   ]
  },
  {
   "cell_type": "code",
   "execution_count": null,
   "id": "8a10ffdf",
   "metadata": {},
   "outputs": [],
   "source": [
    "print(m)"
   ]
  },
  {
   "cell_type": "code",
   "execution_count": null,
   "id": "36d1d77a",
   "metadata": {},
   "outputs": [],
   "source": []
  }
 ],
 "metadata": {
  "kernelspec": {
   "display_name": "Python 3 (ipykernel)",
   "language": "python",
   "name": "python3"
  },
  "language_info": {
   "codemirror_mode": {
    "name": "ipython",
    "version": 3
   },
   "file_extension": ".py",
   "mimetype": "text/x-python",
   "name": "python",
   "nbconvert_exporter": "python",
   "pygments_lexer": "ipython3",
   "version": "3.9.2"
  }
 },
 "nbformat": 4,
 "nbformat_minor": 5
}
